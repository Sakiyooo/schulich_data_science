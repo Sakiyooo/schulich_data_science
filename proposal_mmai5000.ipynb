{
 "cells": [
  {
   "cell_type": "code",
   "execution_count": 12,
   "metadata": {},
   "outputs": [],
   "source": [
    "import pandas as pd\n",
    "import numpy as np\n",
    "import seaborn as sns\n",
    "import matplotlib.pyplot as plt"
   ]
  },
  {
   "cell_type": "code",
   "execution_count": 10,
   "metadata": {},
   "outputs": [],
   "source": [
    "df = pd.read_excel('/Users/saki/Desktop/AI-Human-PewData.xlsx')"
   ]
  },
  {
   "cell_type": "code",
   "execution_count": 11,
   "metadata": {},
   "outputs": [
    {
     "data": {
      "text/html": [
       "<div>\n",
       "<style scoped>\n",
       "    .dataframe tbody tr th:only-of-type {\n",
       "        vertical-align: middle;\n",
       "    }\n",
       "\n",
       "    .dataframe tbody tr th {\n",
       "        vertical-align: top;\n",
       "    }\n",
       "\n",
       "    .dataframe thead th {\n",
       "        text-align: right;\n",
       "    }\n",
       "</style>\n",
       "<table border=\"1\" class=\"dataframe\">\n",
       "  <thead>\n",
       "    <tr style=\"text-align: right;\">\n",
       "      <th></th>\n",
       "      <th>Unnamed: 0</th>\n",
       "      <th>QKEY</th>\n",
       "      <th>INTERVIEW_START_W99</th>\n",
       "      <th>INTERVIEW_END_W99</th>\n",
       "      <th>DEVICE_TYPE_W99</th>\n",
       "      <th>LANG_W99</th>\n",
       "      <th>FORM_W99</th>\n",
       "      <th>XTABLET_W99</th>\n",
       "      <th>TECH1_W99</th>\n",
       "      <th>SC1_W99</th>\n",
       "      <th>...</th>\n",
       "      <th>F_PARTYLN_FINAL</th>\n",
       "      <th>F_PARTYSUM_FINAL</th>\n",
       "      <th>F_PARTYSUMIDEO_FINAL</th>\n",
       "      <th>F_INC_SDT1</th>\n",
       "      <th>F_REG</th>\n",
       "      <th>F_IDEO</th>\n",
       "      <th>F_INTFREQ</th>\n",
       "      <th>F_VOLSUM</th>\n",
       "      <th>F_INC_TIER2</th>\n",
       "      <th>WEIGHT_W99</th>\n",
       "    </tr>\n",
       "  </thead>\n",
       "  <tbody>\n",
       "    <tr>\n",
       "      <th>0</th>\n",
       "      <td>0</td>\n",
       "      <td>100260</td>\n",
       "      <td>2021-11-03 14:25:27</td>\n",
       "      <td>2021-11-03 14:45:34</td>\n",
       "      <td>Laptop/PC</td>\n",
       "      <td>English</td>\n",
       "      <td>Form 2</td>\n",
       "      <td>Non-tablet HH</td>\n",
       "      <td>NaN</td>\n",
       "      <td>Mostly positive</td>\n",
       "      <td>...</td>\n",
       "      <td>NaN</td>\n",
       "      <td>Rep/Lean Rep</td>\n",
       "      <td>Conservative Rep/Lean</td>\n",
       "      <td>$50,000 to less than $60,000</td>\n",
       "      <td>You are ABSOLUTELY CERTAIN that you are regist...</td>\n",
       "      <td>Very conservative</td>\n",
       "      <td>Several times a day</td>\n",
       "      <td>No</td>\n",
       "      <td>Middle income</td>\n",
       "      <td>0.206396</td>\n",
       "    </tr>\n",
       "    <tr>\n",
       "      <th>1</th>\n",
       "      <td>1</td>\n",
       "      <td>100314</td>\n",
       "      <td>2021-11-04 12:35:35</td>\n",
       "      <td>2021-11-04 12:55:29</td>\n",
       "      <td>Smartphone</td>\n",
       "      <td>English</td>\n",
       "      <td>Form 1</td>\n",
       "      <td>Non-tablet HH</td>\n",
       "      <td>Mostly positive</td>\n",
       "      <td>NaN</td>\n",
       "      <td>...</td>\n",
       "      <td>NaN</td>\n",
       "      <td>Rep/Lean Rep</td>\n",
       "      <td>Moderate/Liberal Rep/Lean</td>\n",
       "      <td>$40,000 to less than $50,000</td>\n",
       "      <td>You are ABSOLUTELY CERTAIN that you are regist...</td>\n",
       "      <td>Liberal</td>\n",
       "      <td>Several times a day</td>\n",
       "      <td>Yes</td>\n",
       "      <td>Middle income</td>\n",
       "      <td>0.315090</td>\n",
       "    </tr>\n",
       "    <tr>\n",
       "      <th>2</th>\n",
       "      <td>2</td>\n",
       "      <td>100363</td>\n",
       "      <td>2021-11-03 20:23:43</td>\n",
       "      <td>2021-11-03 20:36:24</td>\n",
       "      <td>Smartphone</td>\n",
       "      <td>English</td>\n",
       "      <td>Form 1</td>\n",
       "      <td>Non-tablet HH</td>\n",
       "      <td>Mostly positive</td>\n",
       "      <td>NaN</td>\n",
       "      <td>...</td>\n",
       "      <td>NaN</td>\n",
       "      <td>Dem/Lean Dem</td>\n",
       "      <td>Moderate/Conservative Dem/Lean</td>\n",
       "      <td>$100,000 or more</td>\n",
       "      <td>You are ABSOLUTELY CERTAIN that you are regist...</td>\n",
       "      <td>Moderate</td>\n",
       "      <td>Several times a day</td>\n",
       "      <td>No</td>\n",
       "      <td>Upper income</td>\n",
       "      <td>0.829579</td>\n",
       "    </tr>\n",
       "    <tr>\n",
       "      <th>3</th>\n",
       "      <td>3</td>\n",
       "      <td>100598</td>\n",
       "      <td>2021-11-02 13:01:05</td>\n",
       "      <td>2021-11-04 12:37:42</td>\n",
       "      <td>Laptop/PC</td>\n",
       "      <td>English</td>\n",
       "      <td>Form 2</td>\n",
       "      <td>Non-tablet HH</td>\n",
       "      <td>NaN</td>\n",
       "      <td>Mostly positive</td>\n",
       "      <td>...</td>\n",
       "      <td>NaN</td>\n",
       "      <td>Rep/Lean Rep</td>\n",
       "      <td>Conservative Rep/Lean</td>\n",
       "      <td>$100,000 or more</td>\n",
       "      <td>You are ABSOLUTELY CERTAIN that you are regist...</td>\n",
       "      <td>Conservative</td>\n",
       "      <td>Several times a day</td>\n",
       "      <td>Yes</td>\n",
       "      <td>Upper income</td>\n",
       "      <td>0.337527</td>\n",
       "    </tr>\n",
       "    <tr>\n",
       "      <th>4</th>\n",
       "      <td>4</td>\n",
       "      <td>100637</td>\n",
       "      <td>2021-11-02 12:32:58</td>\n",
       "      <td>2021-11-02 12:46:23</td>\n",
       "      <td>Laptop/PC</td>\n",
       "      <td>English</td>\n",
       "      <td>Form 2</td>\n",
       "      <td>Non-tablet HH</td>\n",
       "      <td>NaN</td>\n",
       "      <td>Equal positive and negative effects</td>\n",
       "      <td>...</td>\n",
       "      <td>The Republican Party</td>\n",
       "      <td>Rep/Lean Rep</td>\n",
       "      <td>Conservative Rep/Lean</td>\n",
       "      <td>$30,000 to less than $40,000</td>\n",
       "      <td>You are ABSOLUTELY CERTAIN that you are regist...</td>\n",
       "      <td>Very conservative</td>\n",
       "      <td>Less often</td>\n",
       "      <td>No</td>\n",
       "      <td>Lower income</td>\n",
       "      <td>1.210606</td>\n",
       "    </tr>\n",
       "  </tbody>\n",
       "</table>\n",
       "<p>5 rows × 215 columns</p>\n",
       "</div>"
      ],
      "text/plain": [
       "   Unnamed: 0    QKEY INTERVIEW_START_W99   INTERVIEW_END_W99 DEVICE_TYPE_W99  \\\n",
       "0           0  100260 2021-11-03 14:25:27 2021-11-03 14:45:34       Laptop/PC   \n",
       "1           1  100314 2021-11-04 12:35:35 2021-11-04 12:55:29      Smartphone   \n",
       "2           2  100363 2021-11-03 20:23:43 2021-11-03 20:36:24      Smartphone   \n",
       "3           3  100598 2021-11-02 13:01:05 2021-11-04 12:37:42       Laptop/PC   \n",
       "4           4  100637 2021-11-02 12:32:58 2021-11-02 12:46:23       Laptop/PC   \n",
       "\n",
       "  LANG_W99 FORM_W99    XTABLET_W99        TECH1_W99  \\\n",
       "0  English   Form 2  Non-tablet HH              NaN   \n",
       "1  English   Form 1  Non-tablet HH  Mostly positive   \n",
       "2  English   Form 1  Non-tablet HH  Mostly positive   \n",
       "3  English   Form 2  Non-tablet HH              NaN   \n",
       "4  English   Form 2  Non-tablet HH              NaN   \n",
       "\n",
       "                               SC1_W99  ...       F_PARTYLN_FINAL  \\\n",
       "0                      Mostly positive  ...                   NaN   \n",
       "1                                  NaN  ...                   NaN   \n",
       "2                                  NaN  ...                   NaN   \n",
       "3                      Mostly positive  ...                   NaN   \n",
       "4  Equal positive and negative effects  ...  The Republican Party   \n",
       "\n",
       "  F_PARTYSUM_FINAL            F_PARTYSUMIDEO_FINAL  \\\n",
       "0     Rep/Lean Rep           Conservative Rep/Lean   \n",
       "1     Rep/Lean Rep       Moderate/Liberal Rep/Lean   \n",
       "2     Dem/Lean Dem  Moderate/Conservative Dem/Lean   \n",
       "3     Rep/Lean Rep           Conservative Rep/Lean   \n",
       "4     Rep/Lean Rep           Conservative Rep/Lean   \n",
       "\n",
       "                     F_INC_SDT1  \\\n",
       "0  $50,000 to less than $60,000   \n",
       "1  $40,000 to less than $50,000   \n",
       "2              $100,000 or more   \n",
       "3              $100,000 or more   \n",
       "4  $30,000 to less than $40,000   \n",
       "\n",
       "                                               F_REG             F_IDEO  \\\n",
       "0  You are ABSOLUTELY CERTAIN that you are regist...  Very conservative   \n",
       "1  You are ABSOLUTELY CERTAIN that you are regist...            Liberal   \n",
       "2  You are ABSOLUTELY CERTAIN that you are regist...           Moderate   \n",
       "3  You are ABSOLUTELY CERTAIN that you are regist...       Conservative   \n",
       "4  You are ABSOLUTELY CERTAIN that you are regist...  Very conservative   \n",
       "\n",
       "             F_INTFREQ F_VOLSUM    F_INC_TIER2 WEIGHT_W99  \n",
       "0  Several times a day       No  Middle income   0.206396  \n",
       "1  Several times a day      Yes  Middle income   0.315090  \n",
       "2  Several times a day       No   Upper income   0.829579  \n",
       "3  Several times a day      Yes   Upper income   0.337527  \n",
       "4           Less often       No   Lower income   1.210606  \n",
       "\n",
       "[5 rows x 215 columns]"
      ]
     },
     "execution_count": 11,
     "metadata": {},
     "output_type": "execute_result"
    }
   ],
   "source": [
    "df.head()"
   ]
  },
  {
   "cell_type": "code",
   "execution_count": 46,
   "metadata": {},
   "outputs": [],
   "source": [
    "c_df = df.iloc[0:10260]\n",
    "\n",
    "predictors = ['F_METRO', 'F_CREGION', 'F_AGECAT','F_GENDER','F_EDUCCAT','F_EDUCCAT2','F_HISP','F_YEARSINUS','F_RACECMB','F_RACETHNMOD','F_CITIZEN','F_BIRTHPLACE']\n",
    "outcome = 'F_INC_SDT1'"
   ]
  },
  {
   "cell_type": "code",
   "execution_count": 47,
   "metadata": {},
   "outputs": [],
   "source": [
    "X = c_df[predictors]\n",
    "y = c_df[outcome]"
   ]
  },
  {
   "cell_type": "code",
   "execution_count": 48,
   "metadata": {},
   "outputs": [
    {
     "data": {
      "text/html": [
       "<div>\n",
       "<style scoped>\n",
       "    .dataframe tbody tr th:only-of-type {\n",
       "        vertical-align: middle;\n",
       "    }\n",
       "\n",
       "    .dataframe tbody tr th {\n",
       "        vertical-align: top;\n",
       "    }\n",
       "\n",
       "    .dataframe thead th {\n",
       "        text-align: right;\n",
       "    }\n",
       "</style>\n",
       "<table border=\"1\" class=\"dataframe\">\n",
       "  <thead>\n",
       "    <tr style=\"text-align: right;\">\n",
       "      <th></th>\n",
       "      <th>F_METRO</th>\n",
       "      <th>F_CREGION</th>\n",
       "      <th>F_AGECAT</th>\n",
       "      <th>F_GENDER</th>\n",
       "      <th>F_EDUCCAT</th>\n",
       "      <th>F_EDUCCAT2</th>\n",
       "      <th>F_HISP</th>\n",
       "      <th>F_YEARSINUS</th>\n",
       "      <th>F_RACECMB</th>\n",
       "      <th>F_RACETHNMOD</th>\n",
       "      <th>F_CITIZEN</th>\n",
       "      <th>F_BIRTHPLACE</th>\n",
       "    </tr>\n",
       "  </thead>\n",
       "  <tbody>\n",
       "    <tr>\n",
       "      <th>0</th>\n",
       "      <td>Metropolitan</td>\n",
       "      <td>West</td>\n",
       "      <td>65+</td>\n",
       "      <td>A man</td>\n",
       "      <td>College graduate+</td>\n",
       "      <td>College graduate/some post grad</td>\n",
       "      <td>No</td>\n",
       "      <td>Born in US (not including unincorporated terri...</td>\n",
       "      <td>White</td>\n",
       "      <td>White non-Hispanic</td>\n",
       "      <td>Yes</td>\n",
       "      <td>U.S. – 50 states, District of Columbia</td>\n",
       "    </tr>\n",
       "    <tr>\n",
       "      <th>1</th>\n",
       "      <td>Non-metropolitan</td>\n",
       "      <td>Midwest</td>\n",
       "      <td>65+</td>\n",
       "      <td>A man</td>\n",
       "      <td>Some College</td>\n",
       "      <td>Some college, no degree</td>\n",
       "      <td>No</td>\n",
       "      <td>Born in US (not including unincorporated terri...</td>\n",
       "      <td>White</td>\n",
       "      <td>White non-Hispanic</td>\n",
       "      <td>Yes</td>\n",
       "      <td>U.S. – 50 states, District of Columbia</td>\n",
       "    </tr>\n",
       "    <tr>\n",
       "      <th>2</th>\n",
       "      <td>Metropolitan</td>\n",
       "      <td>Northeast</td>\n",
       "      <td>30-49</td>\n",
       "      <td>A woman</td>\n",
       "      <td>College graduate+</td>\n",
       "      <td>Postgraduate</td>\n",
       "      <td>No</td>\n",
       "      <td>Born in US (not including unincorporated terri...</td>\n",
       "      <td>White</td>\n",
       "      <td>White non-Hispanic</td>\n",
       "      <td>Yes</td>\n",
       "      <td>U.S. – 50 states, District of Columbia</td>\n",
       "    </tr>\n",
       "    <tr>\n",
       "      <th>3</th>\n",
       "      <td>Metropolitan</td>\n",
       "      <td>West</td>\n",
       "      <td>50-64</td>\n",
       "      <td>A woman</td>\n",
       "      <td>College graduate+</td>\n",
       "      <td>Postgraduate</td>\n",
       "      <td>No</td>\n",
       "      <td>Born in US (not including unincorporated terri...</td>\n",
       "      <td>White</td>\n",
       "      <td>White non-Hispanic</td>\n",
       "      <td>Yes</td>\n",
       "      <td>U.S. – 50 states, District of Columbia</td>\n",
       "    </tr>\n",
       "    <tr>\n",
       "      <th>4</th>\n",
       "      <td>Metropolitan</td>\n",
       "      <td>South</td>\n",
       "      <td>65+</td>\n",
       "      <td>A woman</td>\n",
       "      <td>Some College</td>\n",
       "      <td>Associate's degree</td>\n",
       "      <td>No</td>\n",
       "      <td>Born in US (not including unincorporated terri...</td>\n",
       "      <td>White</td>\n",
       "      <td>White non-Hispanic</td>\n",
       "      <td>Yes</td>\n",
       "      <td>U.S. – 50 states, District of Columbia</td>\n",
       "    </tr>\n",
       "  </tbody>\n",
       "</table>\n",
       "</div>"
      ],
      "text/plain": [
       "            F_METRO  F_CREGION F_AGECAT F_GENDER          F_EDUCCAT  \\\n",
       "0      Metropolitan       West      65+    A man  College graduate+   \n",
       "1  Non-metropolitan    Midwest      65+    A man       Some College   \n",
       "2      Metropolitan  Northeast    30-49  A woman  College graduate+   \n",
       "3      Metropolitan       West    50-64  A woman  College graduate+   \n",
       "4      Metropolitan      South      65+  A woman       Some College   \n",
       "\n",
       "                        F_EDUCCAT2 F_HISP  \\\n",
       "0  College graduate/some post grad     No   \n",
       "1          Some college, no degree     No   \n",
       "2                     Postgraduate     No   \n",
       "3                     Postgraduate     No   \n",
       "4               Associate's degree     No   \n",
       "\n",
       "                                         F_YEARSINUS F_RACECMB  \\\n",
       "0  Born in US (not including unincorporated terri...     White   \n",
       "1  Born in US (not including unincorporated terri...     White   \n",
       "2  Born in US (not including unincorporated terri...     White   \n",
       "3  Born in US (not including unincorporated terri...     White   \n",
       "4  Born in US (not including unincorporated terri...     White   \n",
       "\n",
       "         F_RACETHNMOD F_CITIZEN                            F_BIRTHPLACE  \n",
       "0  White non-Hispanic       Yes  U.S. – 50 states, District of Columbia  \n",
       "1  White non-Hispanic       Yes  U.S. – 50 states, District of Columbia  \n",
       "2  White non-Hispanic       Yes  U.S. – 50 states, District of Columbia  \n",
       "3  White non-Hispanic       Yes  U.S. – 50 states, District of Columbia  \n",
       "4  White non-Hispanic       Yes  U.S. – 50 states, District of Columbia  "
      ]
     },
     "execution_count": 48,
     "metadata": {},
     "output_type": "execute_result"
    }
   ],
   "source": [
    "X.head()"
   ]
  },
  {
   "cell_type": "code",
   "execution_count": 50,
   "metadata": {},
   "outputs": [
    {
     "data": {
      "text/plain": [
       "10260"
      ]
     },
     "execution_count": 50,
     "metadata": {},
     "output_type": "execute_result"
    }
   ],
   "source": [
    "len(df)"
   ]
  },
  {
   "cell_type": "code",
   "execution_count": 57,
   "metadata": {},
   "outputs": [
    {
     "name": "stderr",
     "output_type": "stream",
     "text": [
      "/var/folders/v8/61xx6l9j6t3bbm3w1j9thf480000gn/T/ipykernel_11607/100680127.py:1: SettingWithCopyWarning: \n",
      "A value is trying to be set on a copy of a slice from a DataFrame.\n",
      "Try using .loc[row_indexer,col_indexer] = value instead\n",
      "\n",
      "See the caveats in the documentation: https://pandas.pydata.org/pandas-docs/stable/user_guide/indexing.html#returning-a-view-versus-a-copy\n",
      "  c_df[\"F_EDU\"] = c_df['F_EDUCCAT'] + ' : ' + c_df['F_EDUCCAT2']\n"
     ]
    }
   ],
   "source": [
    "c_df[\"F_EDU\"] = c_df['F_EDUCCAT'] + ' : ' + c_df['F_EDUCCAT2']"
   ]
  },
  {
   "cell_type": "code",
   "execution_count": 58,
   "metadata": {},
   "outputs": [
    {
     "data": {
      "text/plain": [
       "0        College graduate+ : College graduate/some post...\n",
       "1                   Some College : Some college, no degree\n",
       "2                         College graduate+ : Postgraduate\n",
       "3                         College graduate+ : Postgraduate\n",
       "4                        Some College : Associate's degree\n",
       "                               ...                        \n",
       "10255         H.S. graduate or less : High school graduate\n",
       "10256    College graduate+ : College graduate/some post...\n",
       "10257                    Some College : Associate's degree\n",
       "10258               Some College : Some college, no degree\n",
       "10259    College graduate+ : College graduate/some post...\n",
       "Name: F_EDU, Length: 10260, dtype: object"
      ]
     },
     "execution_count": 58,
     "metadata": {},
     "output_type": "execute_result"
    }
   ],
   "source": [
    "c_df[\"F_EDU\"]"
   ]
  },
  {
   "cell_type": "code",
   "execution_count": 62,
   "metadata": {},
   "outputs": [
    {
     "data": {
      "text/plain": [
       "4"
      ]
     },
     "execution_count": 62,
     "metadata": {},
     "output_type": "execute_result"
    }
   ],
   "source": [
    "c_df['F_EDUCCAT'].nunique()\n"
   ]
  },
  {
   "cell_type": "code",
   "execution_count": 63,
   "metadata": {},
   "outputs": [
    {
     "data": {
      "text/plain": [
       "7"
      ]
     },
     "execution_count": 63,
     "metadata": {},
     "output_type": "execute_result"
    }
   ],
   "source": [
    "c_df['F_EDUCCAT2'].nunique()\n",
    "\n"
   ]
  },
  {
   "cell_type": "code",
   "execution_count": 64,
   "metadata": {},
   "outputs": [
    {
     "data": {
      "text/plain": [
       "7"
      ]
     },
     "execution_count": 64,
     "metadata": {},
     "output_type": "execute_result"
    }
   ],
   "source": [
    "c_df['F_EDU'].nunique()"
   ]
  },
  {
   "cell_type": "code",
   "execution_count": 69,
   "metadata": {},
   "outputs": [
    {
     "data": {
      "text/plain": [
       "F_EDU\n",
       "College graduate+ : College graduate/some post grad    2824\n",
       "College graduate+ : Postgraduate                       2399\n",
       "Some College : Some college, no degree                 2149\n",
       "H.S. graduate or less : High school graduate           1420\n",
       "Some College : Associate's degree                      1110\n",
       "H.S. graduate or less : Less than high school           326\n",
       "Refused : Refused                                        32\n",
       "Name: count, dtype: int64"
      ]
     },
     "execution_count": 69,
     "metadata": {},
     "output_type": "execute_result"
    }
   ],
   "source": [
    "c_df['F_EDU'].value_counts()"
   ]
  },
  {
   "cell_type": "code",
   "execution_count": null,
   "metadata": {},
   "outputs": [],
   "source": []
  }
 ],
 "metadata": {
  "kernelspec": {
   "display_name": "Python 3",
   "language": "python",
   "name": "python3"
  },
  "language_info": {
   "codemirror_mode": {
    "name": "ipython",
    "version": 3
   },
   "file_extension": ".py",
   "mimetype": "text/x-python",
   "name": "python",
   "nbconvert_exporter": "python",
   "pygments_lexer": "ipython3",
   "version": "3.9.6"
  }
 },
 "nbformat": 4,
 "nbformat_minor": 2
}
